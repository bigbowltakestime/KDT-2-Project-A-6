{
 "cells": [
  {
   "cell_type": "code",
   "execution_count": 3,
   "metadata": {},
   "outputs": [
    {
     "name": "stdout",
     "output_type": "stream",
     "text": [
      "\u001b[1mDownloading and preparing dataset 778.12 MiB (download: 778.12 MiB, generated: Unknown size, total: 778.12 MiB) to /Users/zynkimland/tensorflow_datasets/stanford_dogs/0.2.0...\u001b[0m\n"
     ]
    },
    {
     "name": "stderr",
     "output_type": "stream",
     "text": [
      "Dl Size...: 100%|██████████| 793579520/793579520 [00:00<00:00, 124977049339.32 MiB/s]\n",
      "Dl Completed...: 100%|██████████| 1/1 [00:00<00:00, 122.97 url/s]\n",
      "Dl Completed...: 0 url [00:00, ? url/s]\n",
      "Dl Completed...:   0%|          | 0/1 [00:00<?, ? url/s]\n",
      "Dl Completed...: 100%|██████████| 1/1 [00:00<00:00, 161.74 url/s]\n",
      "Dl Completed...: 100%|██████████| 1/1 [00:00<00:00, 105.14 url/s]\n",
      "Dl Completed...: 100%|██████████| 1/1 [00:00<00:00, 87.86 url/s] \n",
      "Dl Completed...:  50%|█████     | 1/2 [00:00<00:00, 68.61 url/s]\n",
      "Dl Completed...: 100%|██████████| 2/2 [00:00<00:00, 119.58 url/s]\n",
      "Dl Completed...: 100%|██████████| 2/2 [00:00<00:00, 96.98 url/s] \n",
      "Dl Completed...: 100%|██████████| 2/2 [00:00<00:00, 82.71 url/s]\n",
      "Extraction completed...: 0 file [00:00, ? file/s]\n",
      "Dl Size...: 100%|██████████| 22333440/22333440 [00:00<00:00, 838524390.63 MiB/s]\n",
      "Dl Completed...: 100%|██████████| 2/2 [00:00<00:00, 71.74 url/s]\n",
      "2023-05-26 13:01:27.095986: I tensorflow/core/common_runtime/executor.cc:1210] [/device:CPU:0] (DEBUG INFO) Executor start aborting (this does not indicate an error and you can ignore this message): INVALID_ARGUMENT: You must feed a value for placeholder tensor 'Placeholder/_2' with dtype string and shape [4]\n",
      "\t [[{{node Placeholder/_2}}]]\n",
      "2023-05-26 13:01:27.096201: I tensorflow/core/common_runtime/executor.cc:1210] [/device:CPU:0] (DEBUG INFO) Executor start aborting (this does not indicate an error and you can ignore this message): INVALID_ARGUMENT: You must feed a value for placeholder tensor 'Placeholder/_0' with dtype string and shape [4]\n",
      "\t [[{{node Placeholder/_0}}]]\n"
     ]
    },
    {
     "name": "stdout",
     "output_type": "stream",
     "text": [
      "\u001b[1mDataset stanford_dogs downloaded and prepared to /Users/zynkimland/tensorflow_datasets/stanford_dogs/0.2.0. Subsequent calls will reuse this data.\u001b[0m\n"
     ]
    },
    {
     "name": "stderr",
     "output_type": "stream",
     "text": [
      "2023-05-26 13:01:27.135124: I tensorflow/core/common_runtime/executor.cc:1210] [/device:CPU:0] (DEBUG INFO) Executor start aborting (this does not indicate an error and you can ignore this message): INVALID_ARGUMENT: You must feed a value for placeholder tensor 'Placeholder/_3' with dtype int64 and shape [4]\n",
      "\t [[{{node Placeholder/_3}}]]\n",
      "2023-05-26 13:01:27.135335: I tensorflow/core/common_runtime/executor.cc:1210] [/device:CPU:0] (DEBUG INFO) Executor start aborting (this does not indicate an error and you can ignore this message): INVALID_ARGUMENT: You must feed a value for placeholder tensor 'Placeholder/_2' with dtype string and shape [4]\n",
      "\t [[{{node Placeholder/_2}}]]\n"
     ]
    },
    {
     "ename": "KeyError",
     "evalue": "'age'",
     "output_type": "error",
     "traceback": [
      "\u001b[0;31m---------------------------------------------------------------------------\u001b[0m",
      "\u001b[0;31mKeyError\u001b[0m                                  Traceback (most recent call last)",
      "Cell \u001b[0;32mIn[3], line 16\u001b[0m\n\u001b[1;32m     14\u001b[0m \u001b[39m# 이미지와 나이 정보 가져오기\u001b[39;00m\n\u001b[1;32m     15\u001b[0m images \u001b[39m=\u001b[39m [one[\u001b[39m'\u001b[39m\u001b[39mimage\u001b[39m\u001b[39m'\u001b[39m] \u001b[39mfor\u001b[39;00m one \u001b[39min\u001b[39;00m data_train[\u001b[39m0\u001b[39m]\u001b[39m.\u001b[39mtake(\u001b[39m30\u001b[39m)]\n\u001b[0;32m---> 16\u001b[0m ages \u001b[39m=\u001b[39m [one[\u001b[39m'\u001b[39;49m\u001b[39mage\u001b[39;49m\u001b[39m'\u001b[39;49m] \u001b[39mfor\u001b[39;49;00m one \u001b[39min\u001b[39;49;00m data_train[\u001b[39m0\u001b[39;49m]\u001b[39m.\u001b[39;49mtake(\u001b[39m30\u001b[39;49m)]\n\u001b[1;32m     18\u001b[0m \u001b[39m# 이미지 출력\u001b[39;00m\n\u001b[1;32m     19\u001b[0m plt\u001b[39m.\u001b[39mimshow(images[\u001b[39m20\u001b[39m])\n",
      "Cell \u001b[0;32mIn[3], line 16\u001b[0m, in \u001b[0;36m<listcomp>\u001b[0;34m(.0)\u001b[0m\n\u001b[1;32m     14\u001b[0m \u001b[39m# 이미지와 나이 정보 가져오기\u001b[39;00m\n\u001b[1;32m     15\u001b[0m images \u001b[39m=\u001b[39m [one[\u001b[39m'\u001b[39m\u001b[39mimage\u001b[39m\u001b[39m'\u001b[39m] \u001b[39mfor\u001b[39;00m one \u001b[39min\u001b[39;00m data_train[\u001b[39m0\u001b[39m]\u001b[39m.\u001b[39mtake(\u001b[39m30\u001b[39m)]\n\u001b[0;32m---> 16\u001b[0m ages \u001b[39m=\u001b[39m [one[\u001b[39m'\u001b[39;49m\u001b[39mage\u001b[39;49m\u001b[39m'\u001b[39;49m] \u001b[39mfor\u001b[39;00m one \u001b[39min\u001b[39;00m data_train[\u001b[39m0\u001b[39m]\u001b[39m.\u001b[39mtake(\u001b[39m30\u001b[39m)]\n\u001b[1;32m     18\u001b[0m \u001b[39m# 이미지 출력\u001b[39;00m\n\u001b[1;32m     19\u001b[0m plt\u001b[39m.\u001b[39mimshow(images[\u001b[39m20\u001b[39m])\n",
      "\u001b[0;31mKeyError\u001b[0m: 'age'"
     ]
    }
   ],
   "source": [
    "import cv2\n",
    "import matplotlib.pyplot as plt\n",
    "import tensorflow_datasets as tfds\n",
    "import tensorflow as tf\n",
    "import numpy as np\n",
    "\n",
    "# SSL 인증서 문제 해결\n",
    "import ssl\n",
    "ssl._create_default_https_context = ssl._create_unverified_context\n",
    "\n",
    "# 데이터셋 로드\n",
    "data_train, ds_info = tfds.load('stanford_dogs', split=[tfds.Split.TRAIN], with_info=True)\n",
    "\n",
    "# 이미지와 나이 정보 가져오기\n",
    "images = [one['image'] for one in data_train[0].take(30)]\n",
    "ages = [one['age'] for one in data_train[0].take(30)]\n",
    "\n",
    "# 이미지 출력\n",
    "plt.imshow(images[20])\n",
    "plt.axis('off')\n",
    "\n",
    "# ResNet50 모델 불러오기\n",
    "resnet50_pre = tf.keras.applications.resnet.ResNet50(weights='imagenet', input_shape=(224, 224, 3))\n",
    "\n",
    "# ResNet50 모델 동결\n",
    "resnet50_pre.trainable = False\n",
    "\n",
    "# 새로운 모델 구성\n",
    "model = tf.keras.Sequential([\n",
    "    resnet50_pre,\n",
    "    tf.keras.layers.GlobalAveragePooling2D(),\n",
    "    tf.keras.layers.Dense(256, activation='relu'),\n",
    "    tf.keras.layers.Dense(1, activation='linear')  # 나이를 연속적인 값으로 예측하는 회귀 문제로 설정합니다.\n",
    "])\n",
    "\n",
    "# 모델 컴파일\n",
    "model.compile(optimizer='adam', loss='mean_squared_error', metrics=['mae'])\n",
    "\n",
    "# 전체 데이터셋을 사용하기 위해 이미지와 레이블을 준비\n",
    "train_images = np.array([cv2.resize(np.array(img), (224, 224)) for img in images])\n",
    "train_labels = np.array(ages)  # 이미지에 대한 실제 나이 정보를 입력해야 합니다.\n",
    "\n",
    "# 전이 학습 수행\n",
    "model.fit(train_images, train_labels, epochs=10, validation_split=0.2)\n"
   ]
  }
 ],
 "metadata": {
  "kernelspec": {
   "display_name": "Python 3",
   "language": "python",
   "name": "python3"
  },
  "language_info": {
   "codemirror_mode": {
    "name": "ipython",
    "version": 3
   },
   "file_extension": ".py",
   "mimetype": "text/x-python",
   "name": "python",
   "nbconvert_exporter": "python",
   "pygments_lexer": "ipython3",
   "version": "3.11.1"
  },
  "orig_nbformat": 4
 },
 "nbformat": 4,
 "nbformat_minor": 2
}
